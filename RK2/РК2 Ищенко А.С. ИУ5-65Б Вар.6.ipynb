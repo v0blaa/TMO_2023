{
 "cells": [
  {
   "cell_type": "markdown",
   "id": "8c618fb1",
   "metadata": {},
   "source": [
    "## РК №2"
   ]
  },
  {
   "cell_type": "markdown",
   "id": "5f8d0221",
   "metadata": {},
   "source": [
    "##### Рубежный контроль №. Ищенко А.С. Вариант №6: задание 1, датасет 6"
   ]
  },
  {
   "cell_type": "markdown",
   "id": "e5789e62",
   "metadata": {},
   "source": [
    "### Задание:\n",
    "Для заданного набора данных постройте модели классификации или регрессии (в зависимости от конкретной задачи, рассматриваемой в наборе данных). Для построения моделей используйте методы: \"Метод опорных векторов\" и \"Градиентный бустинг\". Оцените качество моделей на основе подходящих метрик качества (не менее двух метрик). Какие метрики качества Вы использовали и почему? Какие выводы Вы можете сделать о качестве построенных моделей? Для построения моделей необходимо выполнить требуемую предобработку данных: заполнение пропусков, кодирование категориальных признаков, и т.д."
   ]
  },
  {
   "cell_type": "markdown",
   "id": "2f238e3d",
   "metadata": {},
   "source": [
    "Набор данных состоит из данных, необходимых  для прогнозирования поступления в аспирантуру в Индии.\n",
    "Набор содержит следующие данные:\n",
    "\n",
    "Баллы GRE (из 340)\n",
    "\n",
    "Баллы TOEFL (из 120)\n",
    "\n",
    "Рейтинг университета (из 5)\n",
    "\n",
    "Заявление о целях (из 5)\n",
    "\n",
    "Рекомендательное письмо (из 5)\n",
    "\n",
    "Средний балл бакалавриата (из 10)\n",
    "\n",
    "Исследовательский опыт (0 или 1)\n",
    "\n",
    "Шанс допуска (от 0 до 1)"
   ]
  },
  {
   "cell_type": "code",
   "execution_count": 1,
   "id": "2dc57037",
   "metadata": {},
   "outputs": [],
   "source": [
    "import numpy as np\n",
    "import pandas as pd\n",
    "import seaborn as sns\n",
    "import matplotlib.pyplot as plt\n",
    "from sklearn.model_selection import train_test_split\n",
    "from sklearn.neighbors import KNeighborsRegressor, KNeighborsClassifier\n",
    "\n",
    "from sklearn.model_selection import GridSearchCV\n",
    "from sklearn.metrics import f1_score\n",
    "from sklearn.preprocessing import OrdinalEncoder\n",
    "from sklearn import preprocessing\n",
    "from sklearn import utils\n",
    "\n",
    "%matplotlib inline \n",
    "sns.set(style=\"ticks\")"
   ]
  },
  {
   "cell_type": "code",
   "execution_count": 2,
   "id": "dc174e41",
   "metadata": {},
   "outputs": [],
   "source": [
    "df = pd.read_csv('Admission_Predict.csv')"
   ]
  },
  {
   "cell_type": "code",
   "execution_count": 3,
   "id": "071c6d5a",
   "metadata": {},
   "outputs": [
    {
     "data": {
      "text/plain": [
       "(400, 9)"
      ]
     },
     "execution_count": 3,
     "metadata": {},
     "output_type": "execute_result"
    }
   ],
   "source": [
    "df.shape"
   ]
  },
  {
   "cell_type": "code",
   "execution_count": 4,
   "id": "84ce7b76",
   "metadata": {},
   "outputs": [
    {
     "data": {
      "text/html": [
       "<div>\n",
       "<style scoped>\n",
       "    .dataframe tbody tr th:only-of-type {\n",
       "        vertical-align: middle;\n",
       "    }\n",
       "\n",
       "    .dataframe tbody tr th {\n",
       "        vertical-align: top;\n",
       "    }\n",
       "\n",
       "    .dataframe thead th {\n",
       "        text-align: right;\n",
       "    }\n",
       "</style>\n",
       "<table border=\"1\" class=\"dataframe\">\n",
       "  <thead>\n",
       "    <tr style=\"text-align: right;\">\n",
       "      <th></th>\n",
       "      <th>Serial No.</th>\n",
       "      <th>GRE Score</th>\n",
       "      <th>TOEFL Score</th>\n",
       "      <th>University Rating</th>\n",
       "      <th>SOP</th>\n",
       "      <th>LOR</th>\n",
       "      <th>CGPA</th>\n",
       "      <th>Research</th>\n",
       "      <th>Chance of Admit</th>\n",
       "    </tr>\n",
       "  </thead>\n",
       "  <tbody>\n",
       "    <tr>\n",
       "      <th>0</th>\n",
       "      <td>1</td>\n",
       "      <td>337</td>\n",
       "      <td>118</td>\n",
       "      <td>4</td>\n",
       "      <td>4.5</td>\n",
       "      <td>4.5</td>\n",
       "      <td>9.65</td>\n",
       "      <td>1</td>\n",
       "      <td>0.92</td>\n",
       "    </tr>\n",
       "    <tr>\n",
       "      <th>1</th>\n",
       "      <td>2</td>\n",
       "      <td>324</td>\n",
       "      <td>107</td>\n",
       "      <td>4</td>\n",
       "      <td>4.0</td>\n",
       "      <td>4.5</td>\n",
       "      <td>8.87</td>\n",
       "      <td>1</td>\n",
       "      <td>0.76</td>\n",
       "    </tr>\n",
       "    <tr>\n",
       "      <th>2</th>\n",
       "      <td>3</td>\n",
       "      <td>316</td>\n",
       "      <td>104</td>\n",
       "      <td>3</td>\n",
       "      <td>3.0</td>\n",
       "      <td>3.5</td>\n",
       "      <td>8.00</td>\n",
       "      <td>1</td>\n",
       "      <td>0.72</td>\n",
       "    </tr>\n",
       "    <tr>\n",
       "      <th>3</th>\n",
       "      <td>4</td>\n",
       "      <td>322</td>\n",
       "      <td>110</td>\n",
       "      <td>3</td>\n",
       "      <td>3.5</td>\n",
       "      <td>2.5</td>\n",
       "      <td>8.67</td>\n",
       "      <td>1</td>\n",
       "      <td>0.80</td>\n",
       "    </tr>\n",
       "    <tr>\n",
       "      <th>4</th>\n",
       "      <td>5</td>\n",
       "      <td>314</td>\n",
       "      <td>103</td>\n",
       "      <td>2</td>\n",
       "      <td>2.0</td>\n",
       "      <td>3.0</td>\n",
       "      <td>8.21</td>\n",
       "      <td>0</td>\n",
       "      <td>0.65</td>\n",
       "    </tr>\n",
       "  </tbody>\n",
       "</table>\n",
       "</div>"
      ],
      "text/plain": [
       "   Serial No.  GRE Score  TOEFL Score  University Rating  SOP  LOR   CGPA  \\\n",
       "0           1        337          118                  4  4.5   4.5  9.65   \n",
       "1           2        324          107                  4  4.0   4.5  8.87   \n",
       "2           3        316          104                  3  3.0   3.5  8.00   \n",
       "3           4        322          110                  3  3.5   2.5  8.67   \n",
       "4           5        314          103                  2  2.0   3.0  8.21   \n",
       "\n",
       "   Research  Chance of Admit   \n",
       "0         1              0.92  \n",
       "1         1              0.76  \n",
       "2         1              0.72  \n",
       "3         1              0.80  \n",
       "4         0              0.65  "
      ]
     },
     "execution_count": 4,
     "metadata": {},
     "output_type": "execute_result"
    }
   ],
   "source": [
    "df.head()"
   ]
  },
  {
   "cell_type": "code",
   "execution_count": 5,
   "id": "a92ec9d3",
   "metadata": {},
   "outputs": [
    {
     "data": {
      "text/plain": [
       "Index(['Serial No.', 'GRE Score', 'TOEFL Score', 'University Rating', 'SOP',\n",
       "       'LOR ', 'CGPA', 'Research', 'Chance of Admit '],\n",
       "      dtype='object')"
      ]
     },
     "execution_count": 5,
     "metadata": {},
     "output_type": "execute_result"
    }
   ],
   "source": [
    "df.columns"
   ]
  },
  {
   "cell_type": "markdown",
   "id": "48c84abe",
   "metadata": {},
   "source": [
    "Название последней колонки имеет незаметный лишний пробел в конце строки, уберем его"
   ]
  },
  {
   "cell_type": "code",
   "execution_count": 6,
   "id": "d7ff7f61",
   "metadata": {},
   "outputs": [],
   "source": [
    "df.rename(columns={'Chance of Admit ': 'Chance of Admit'}, inplace=True)"
   ]
  },
  {
   "cell_type": "code",
   "execution_count": 7,
   "id": "309c0192",
   "metadata": {},
   "outputs": [
    {
     "data": {
      "text/plain": [
       "Index(['Serial No.', 'GRE Score', 'TOEFL Score', 'University Rating', 'SOP',\n",
       "       'LOR ', 'CGPA', 'Research', 'Chance of Admit'],\n",
       "      dtype='object')"
      ]
     },
     "execution_count": 7,
     "metadata": {},
     "output_type": "execute_result"
    }
   ],
   "source": [
    "df.columns"
   ]
  },
  {
   "cell_type": "code",
   "execution_count": 8,
   "id": "3c9958f0",
   "metadata": {},
   "outputs": [
    {
     "name": "stdout",
     "output_type": "stream",
     "text": [
      "<class 'pandas.core.frame.DataFrame'>\n",
      "RangeIndex: 400 entries, 0 to 399\n",
      "Data columns (total 9 columns):\n",
      " #   Column             Non-Null Count  Dtype  \n",
      "---  ------             --------------  -----  \n",
      " 0   Serial No.         400 non-null    int64  \n",
      " 1   GRE Score          400 non-null    int64  \n",
      " 2   TOEFL Score        400 non-null    int64  \n",
      " 3   University Rating  400 non-null    int64  \n",
      " 4   SOP                400 non-null    float64\n",
      " 5   LOR                400 non-null    float64\n",
      " 6   CGPA               400 non-null    float64\n",
      " 7   Research           400 non-null    int64  \n",
      " 8   Chance of Admit    400 non-null    float64\n",
      "dtypes: float64(4), int64(5)\n",
      "memory usage: 28.2 KB\n"
     ]
    }
   ],
   "source": [
    "df.info()"
   ]
  },
  {
   "cell_type": "code",
   "execution_count": 9,
   "id": "62584f13",
   "metadata": {},
   "outputs": [
    {
     "data": {
      "text/plain": [
       "Serial No.             int64\n",
       "GRE Score              int64\n",
       "TOEFL Score            int64\n",
       "University Rating      int64\n",
       "SOP                  float64\n",
       "LOR                  float64\n",
       "CGPA                 float64\n",
       "Research               int64\n",
       "Chance of Admit      float64\n",
       "dtype: object"
      ]
     },
     "execution_count": 9,
     "metadata": {},
     "output_type": "execute_result"
    }
   ],
   "source": [
    "df.dtypes"
   ]
  },
  {
   "cell_type": "code",
   "execution_count": 10,
   "id": "b975ce13",
   "metadata": {},
   "outputs": [
    {
     "name": "stdout",
     "output_type": "stream",
     "text": [
      "Число пропусков\n"
     ]
    },
    {
     "data": {
      "text/plain": [
       "Serial No.           0\n",
       "GRE Score            0\n",
       "TOEFL Score          0\n",
       "University Rating    0\n",
       "SOP                  0\n",
       "LOR                  0\n",
       "CGPA                 0\n",
       "Research             0\n",
       "Chance of Admit      0\n",
       "dtype: int64"
      ]
     },
     "execution_count": 10,
     "metadata": {},
     "output_type": "execute_result"
    }
   ],
   "source": [
    "print('Число пропусков')\n",
    "df.isna().sum()"
   ]
  },
  {
   "cell_type": "code",
   "execution_count": 11,
   "id": "c98c1d4a",
   "metadata": {},
   "outputs": [
    {
     "name": "stdout",
     "output_type": "stream",
     "text": [
      "Число уникальных значений для столбцов\n"
     ]
    },
    {
     "data": {
      "text/plain": [
       "Serial No.           400\n",
       "GRE Score             49\n",
       "TOEFL Score           29\n",
       "University Rating      5\n",
       "SOP                    9\n",
       "LOR                    9\n",
       "CGPA                 168\n",
       "Research               2\n",
       "Chance of Admit       60\n",
       "dtype: int64"
      ]
     },
     "execution_count": 11,
     "metadata": {},
     "output_type": "execute_result"
    }
   ],
   "source": [
    "print('Число уникальных значений для столбцов')\n",
    "df.nunique()"
   ]
  },
  {
   "cell_type": "markdown",
   "id": "fd25503a",
   "metadata": {},
   "source": [
    "### Создание выборок"
   ]
  },
  {
   "cell_type": "code",
   "execution_count": 12,
   "id": "e9efa941",
   "metadata": {},
   "outputs": [],
   "source": [
    "from sklearn import svm\n",
    "from sklearn.model_selection import train_test_split\n",
    "\n",
    "## Создание выборок\n",
    "X_train, X_test, y_train, y_test = train_test_split(df, df['Chance of Admit'], test_size=0.3)"
   ]
  },
  {
   "cell_type": "code",
   "execution_count": 13,
   "id": "4bbba835",
   "metadata": {},
   "outputs": [
    {
     "name": "stdout",
     "output_type": "stream",
     "text": [
      "Размер обучающей выборки: 280 x 9\n"
     ]
    },
    {
     "data": {
      "text/html": [
       "<div>\n",
       "<style scoped>\n",
       "    .dataframe tbody tr th:only-of-type {\n",
       "        vertical-align: middle;\n",
       "    }\n",
       "\n",
       "    .dataframe tbody tr th {\n",
       "        vertical-align: top;\n",
       "    }\n",
       "\n",
       "    .dataframe thead th {\n",
       "        text-align: right;\n",
       "    }\n",
       "</style>\n",
       "<table border=\"1\" class=\"dataframe\">\n",
       "  <thead>\n",
       "    <tr style=\"text-align: right;\">\n",
       "      <th></th>\n",
       "      <th>Serial No.</th>\n",
       "      <th>GRE Score</th>\n",
       "      <th>TOEFL Score</th>\n",
       "      <th>University Rating</th>\n",
       "      <th>SOP</th>\n",
       "      <th>LOR</th>\n",
       "      <th>CGPA</th>\n",
       "      <th>Research</th>\n",
       "      <th>Chance of Admit</th>\n",
       "    </tr>\n",
       "  </thead>\n",
       "  <tbody>\n",
       "    <tr>\n",
       "      <th>270</th>\n",
       "      <td>271</td>\n",
       "      <td>306</td>\n",
       "      <td>105</td>\n",
       "      <td>2</td>\n",
       "      <td>2.5</td>\n",
       "      <td>3.0</td>\n",
       "      <td>8.22</td>\n",
       "      <td>1</td>\n",
       "      <td>0.72</td>\n",
       "    </tr>\n",
       "    <tr>\n",
       "      <th>1</th>\n",
       "      <td>2</td>\n",
       "      <td>324</td>\n",
       "      <td>107</td>\n",
       "      <td>4</td>\n",
       "      <td>4.0</td>\n",
       "      <td>4.5</td>\n",
       "      <td>8.87</td>\n",
       "      <td>1</td>\n",
       "      <td>0.76</td>\n",
       "    </tr>\n",
       "    <tr>\n",
       "      <th>322</th>\n",
       "      <td>323</td>\n",
       "      <td>314</td>\n",
       "      <td>107</td>\n",
       "      <td>2</td>\n",
       "      <td>2.5</td>\n",
       "      <td>4.0</td>\n",
       "      <td>8.27</td>\n",
       "      <td>0</td>\n",
       "      <td>0.72</td>\n",
       "    </tr>\n",
       "    <tr>\n",
       "      <th>292</th>\n",
       "      <td>293</td>\n",
       "      <td>302</td>\n",
       "      <td>99</td>\n",
       "      <td>2</td>\n",
       "      <td>1.0</td>\n",
       "      <td>2.0</td>\n",
       "      <td>7.97</td>\n",
       "      <td>0</td>\n",
       "      <td>0.56</td>\n",
       "    </tr>\n",
       "    <tr>\n",
       "      <th>208</th>\n",
       "      <td>209</td>\n",
       "      <td>305</td>\n",
       "      <td>106</td>\n",
       "      <td>2</td>\n",
       "      <td>3.0</td>\n",
       "      <td>3.0</td>\n",
       "      <td>8.16</td>\n",
       "      <td>0</td>\n",
       "      <td>0.64</td>\n",
       "    </tr>\n",
       "  </tbody>\n",
       "</table>\n",
       "</div>"
      ],
      "text/plain": [
       "     Serial No.  GRE Score  TOEFL Score  University Rating  SOP  LOR   CGPA  \\\n",
       "270         271        306          105                  2  2.5   3.0  8.22   \n",
       "1             2        324          107                  4  4.0   4.5  8.87   \n",
       "322         323        314          107                  2  2.5   4.0  8.27   \n",
       "292         293        302           99                  2  1.0   2.0  7.97   \n",
       "208         209        305          106                  2  3.0   3.0  8.16   \n",
       "\n",
       "     Research  Chance of Admit  \n",
       "270         1             0.72  \n",
       "1           1             0.76  \n",
       "322         0             0.72  \n",
       "292         0             0.56  \n",
       "208         0             0.64  "
      ]
     },
     "execution_count": 13,
     "metadata": {},
     "output_type": "execute_result"
    }
   ],
   "source": [
    "print('Размер обучающей выборки:', X_train.shape[0], 'x', X_train.shape[1])\n",
    "X_train.head()"
   ]
  },
  {
   "cell_type": "code",
   "execution_count": 14,
   "id": "b1b11037",
   "metadata": {},
   "outputs": [
    {
     "name": "stdout",
     "output_type": "stream",
     "text": [
      "Размер тестовой выборки: 120 x 9\n"
     ]
    },
    {
     "data": {
      "text/html": [
       "<div>\n",
       "<style scoped>\n",
       "    .dataframe tbody tr th:only-of-type {\n",
       "        vertical-align: middle;\n",
       "    }\n",
       "\n",
       "    .dataframe tbody tr th {\n",
       "        vertical-align: top;\n",
       "    }\n",
       "\n",
       "    .dataframe thead th {\n",
       "        text-align: right;\n",
       "    }\n",
       "</style>\n",
       "<table border=\"1\" class=\"dataframe\">\n",
       "  <thead>\n",
       "    <tr style=\"text-align: right;\">\n",
       "      <th></th>\n",
       "      <th>Serial No.</th>\n",
       "      <th>GRE Score</th>\n",
       "      <th>TOEFL Score</th>\n",
       "      <th>University Rating</th>\n",
       "      <th>SOP</th>\n",
       "      <th>LOR</th>\n",
       "      <th>CGPA</th>\n",
       "      <th>Research</th>\n",
       "      <th>Chance of Admit</th>\n",
       "    </tr>\n",
       "  </thead>\n",
       "  <tbody>\n",
       "    <tr>\n",
       "      <th>333</th>\n",
       "      <td>334</td>\n",
       "      <td>319</td>\n",
       "      <td>108</td>\n",
       "      <td>3</td>\n",
       "      <td>3.0</td>\n",
       "      <td>3.5</td>\n",
       "      <td>8.54</td>\n",
       "      <td>1</td>\n",
       "      <td>0.71</td>\n",
       "    </tr>\n",
       "    <tr>\n",
       "      <th>277</th>\n",
       "      <td>278</td>\n",
       "      <td>320</td>\n",
       "      <td>101</td>\n",
       "      <td>2</td>\n",
       "      <td>2.5</td>\n",
       "      <td>3.0</td>\n",
       "      <td>8.62</td>\n",
       "      <td>0</td>\n",
       "      <td>0.70</td>\n",
       "    </tr>\n",
       "    <tr>\n",
       "      <th>62</th>\n",
       "      <td>63</td>\n",
       "      <td>304</td>\n",
       "      <td>105</td>\n",
       "      <td>2</td>\n",
       "      <td>3.0</td>\n",
       "      <td>3.0</td>\n",
       "      <td>8.20</td>\n",
       "      <td>1</td>\n",
       "      <td>0.54</td>\n",
       "    </tr>\n",
       "    <tr>\n",
       "      <th>61</th>\n",
       "      <td>62</td>\n",
       "      <td>307</td>\n",
       "      <td>101</td>\n",
       "      <td>3</td>\n",
       "      <td>4.0</td>\n",
       "      <td>3.0</td>\n",
       "      <td>8.20</td>\n",
       "      <td>0</td>\n",
       "      <td>0.47</td>\n",
       "    </tr>\n",
       "    <tr>\n",
       "      <th>392</th>\n",
       "      <td>393</td>\n",
       "      <td>326</td>\n",
       "      <td>112</td>\n",
       "      <td>4</td>\n",
       "      <td>4.0</td>\n",
       "      <td>3.5</td>\n",
       "      <td>9.12</td>\n",
       "      <td>1</td>\n",
       "      <td>0.84</td>\n",
       "    </tr>\n",
       "  </tbody>\n",
       "</table>\n",
       "</div>"
      ],
      "text/plain": [
       "     Serial No.  GRE Score  TOEFL Score  University Rating  SOP  LOR   CGPA  \\\n",
       "333         334        319          108                  3  3.0   3.5  8.54   \n",
       "277         278        320          101                  2  2.5   3.0  8.62   \n",
       "62           63        304          105                  2  3.0   3.0  8.20   \n",
       "61           62        307          101                  3  4.0   3.0  8.20   \n",
       "392         393        326          112                  4  4.0   3.5  9.12   \n",
       "\n",
       "     Research  Chance of Admit  \n",
       "333         1             0.71  \n",
       "277         0             0.70  \n",
       "62          1             0.54  \n",
       "61          0             0.47  \n",
       "392         1             0.84  "
      ]
     },
     "execution_count": 14,
     "metadata": {},
     "output_type": "execute_result"
    }
   ],
   "source": [
    "print('Размер тестовой выборки:', X_test.shape[0], 'x', X_test.shape[1])\n",
    "X_test.head()"
   ]
  },
  {
   "cell_type": "markdown",
   "id": "64e9b354",
   "metadata": {},
   "source": [
    "### Регрессия. Метод опорных векторов (SVM)"
   ]
  },
  {
   "cell_type": "code",
   "execution_count": 15,
   "id": "435e69b0",
   "metadata": {},
   "outputs": [
    {
     "data": {
      "text/plain": [
       "0.6257111643212458"
      ]
     },
     "execution_count": 15,
     "metadata": {},
     "output_type": "execute_result"
    }
   ],
   "source": [
    "from sklearn import svm\n",
    "SVMRegr = svm.SVR()\n",
    "SVMRegr.fit(X_train, y_train)\n",
    "SVMRegr.score(X_test, y_test)"
   ]
  },
  {
   "cell_type": "code",
   "execution_count": 16,
   "id": "dc776eb6",
   "metadata": {},
   "outputs": [
    {
     "name": "stdout",
     "output_type": "stream",
     "text": [
      "[0.73131604 0.73161895 0.61239195 0.6169231  0.74542133 0.72109581\n",
      " 0.61324086 0.70533166 0.70583584 0.64523738 0.58211832 0.76578658\n",
      " 0.79215549 0.77673188 0.76392334 0.59003918 0.90586958 0.77177572\n",
      " 0.63570379 0.74555109 0.60609396 0.83528117 0.66953527 0.73389676\n",
      " 0.68591005 0.58390817 0.69596492 0.84097907 0.74645229 0.64648314\n",
      " 0.87085547 0.87012487 0.66801411 0.88308115 0.7237251  0.64381348\n",
      " 0.71807804 0.56791042 0.70481697 0.66226739 0.74850811 0.69073889\n",
      " 0.81390063 0.79446784 0.79108263 0.69004558 0.84348028 0.80493762\n",
      " 0.59375599 0.75678378 0.87663445 0.65958232 0.79714628 0.70450721\n",
      " 0.74543932 0.69735163 0.74373227 0.79758098 0.75446921 0.70811183\n",
      " 0.69938343 0.58054901 0.68410684 0.82445407 0.62140215 0.75271459\n",
      " 0.73817429 0.57935649 0.72842316 0.60656197 0.61562669 0.77012252\n",
      " 0.66612521 0.58570602 0.62627086 0.78187525 0.78956476 0.70232939\n",
      " 0.7975721  0.62077003 0.6635169  0.6831899  0.68870433 0.66721984\n",
      " 0.67975129 0.77149707 0.69595312 0.67981425 0.68407739 0.7750995\n",
      " 0.79542006 0.78558109 0.80664106 0.72882038 0.67309977 0.8462378\n",
      " 0.74106513 0.67017919 0.74000353 0.88267272 0.75885512 0.83751365\n",
      " 0.74868639 0.65530527 0.80294429 0.56618467 0.70679369 0.64162704\n",
      " 0.68611333 0.82765037 0.8078237  0.75618546 0.6965514  0.55834979\n",
      " 0.77574881 0.68807408 0.73564848 0.60414191 0.76214014 0.75973811]\n"
     ]
    }
   ],
   "source": [
    "SVMRegr_predict = SVMRegr.predict(X_test)\n",
    "print(SVMRegr_predict)"
   ]
  },
  {
   "cell_type": "code",
   "execution_count": 17,
   "id": "73982cee",
   "metadata": {},
   "outputs": [
    {
     "data": {
      "image/png": "[encoded data removed]",
      "text/plain": [
       "<Figure size 640x480 with 1 Axes>"
      ]
     },
     "metadata": {},
     "output_type": "display_data"
    }
   ],
   "source": [
    "# Создание графика фактических значений и предсказанных значений\n",
    "plt.scatter(y_test, SVMRegr_predict)\n",
    "plt.plot([min(y_test), max(y_test)], [min(y_test), max(y_test)], 'k--', lw=2)\n",
    "plt.xlabel(\"Фактические значения\")\n",
    "plt.ylabel(\"Предсказанные значения\")\n",
    "plt.title(\"Сравнение фактических и предсказанных значений SVM\")\n",
    "plt.show()"
   ]
  },
  {
   "cell_type": "markdown",
   "id": "e0e5a834",
   "metadata": {},
   "source": [
    "### Регрессия. Градиентный бустинг."
   ]
  },
  {
   "cell_type": "code",
   "execution_count": 18,
   "id": "af8db1f3",
   "metadata": {},
   "outputs": [
    {
     "data": {
      "text/plain": [
       "0.9998595543972816"
      ]
     },
     "execution_count": 18,
     "metadata": {},
     "output_type": "execute_result"
    }
   ],
   "source": [
    "from sklearn.datasets import make_regression\n",
    "from sklearn.ensemble import GradientBoostingRegressor\n",
    "\n",
    "X, y = make_regression(random_state=0)\n",
    "GBR_reg = GradientBoostingRegressor(random_state=0)\n",
    "GBR_reg.fit(X_train, y_train)\n",
    "GBR_reg.score(X_test, y_test)"
   ]
  },
  {
   "cell_type": "code",
   "execution_count": 19,
   "id": "56265ef7",
   "metadata": {},
   "outputs": [
    {
     "name": "stdout",
     "output_type": "stream",
     "text": [
      "[0.71000266 0.70000055 0.5406386  0.47002051 0.83984371 0.74997242\n",
      " 0.59044879 0.7599907  0.60999651 0.56998469 0.5797842  0.85047657\n",
      " 0.87028439 0.76997855 0.70999969 0.62001807 0.94996947 0.91000593\n",
      " 0.60986648 0.74996945 0.54066706 0.85994451 0.63996088 0.9299302\n",
      " 0.6200251  0.64000727 0.70999969 0.93000745 0.73999066 0.60998329\n",
      " 0.95995778 0.95999827 0.70999966 0.96992785 0.78996689 0.62003196\n",
      " 0.82009222 0.49006944 0.6900061  0.48990669 0.73999069 0.70000058\n",
      " 0.93000745 0.82014323 0.75000643 0.71999614 0.88993204 0.85061652\n",
      " 0.60999184 0.78000748 0.93997235 0.71993914 0.87014545 0.76998555\n",
      " 0.73002478 0.56995276 0.77997929 0.88996264 0.90997844 0.4501504\n",
      " 0.66000508 0.4897602  0.65000307 0.95000864 0.67996933 0.5406776\n",
      " 0.76997889 0.43997391 0.82014655 0.42018755 0.54065486 0.79000421\n",
      " 0.72999479 0.52019554 0.70999797 0.78007767 0.85968704 0.71999611\n",
      " 0.87998143 0.64001547 0.709998   0.620037   0.70999931 0.60998498\n",
      " 0.56010588 0.85062318 0.70999966 0.52021714 0.83974406 0.74001944\n",
      " 0.80989705 0.83984704 0.70001545 0.74996945 0.62003697 0.93000876\n",
      " 0.67000937 0.7599907  0.85058287 0.95999827 0.80985493 0.90999064\n",
      " 0.65002729 0.71999943 0.8000046  0.34491081 0.69999723 0.59042227\n",
      " 0.78997022 0.93997235 0.78002849 0.9199677  0.78996391 0.63995932\n",
      " 0.77001585 0.64000896 0.8397374  0.5201563  0.71001775 0.79000787]\n"
     ]
    }
   ],
   "source": [
    "GBR_reg_predict = GBR_reg.predict(X_test)\n",
    "print(GBR_reg_predict)"
   ]
  },
  {
   "cell_type": "code",
   "execution_count": 20,
   "id": "c153f303",
   "metadata": {},
   "outputs": [
    {
     "data": {
      "image/png": "[encoded data removed]",
      "text/plain": [
       "<Figure size 640x480 with 1 Axes>"
      ]
     },
     "metadata": {},
     "output_type": "display_data"
    }
   ],
   "source": [
    "# Создание графика фактических значений и предсказанных значений\n",
    "plt.scatter(y_test, GBR_reg_predict)\n",
    "plt.plot([min(y_test), max(y_test)], [min(y_test), max(y_test)], 'k--', lw=2)\n",
    "plt.xlabel(\"Фактические значения\")\n",
    "plt.ylabel(\"Предсказанные значения\")\n",
    "plt.title(\"Сравнение фактических и предсказанных значений GBR\")\n",
    "plt.show()"
   ]
  },
  {
   "cell_type": "markdown",
   "id": "2d4c2be5",
   "metadata": {},
   "source": [
    "### Оценка"
   ]
  },
  {
   "cell_type": "code",
   "execution_count": 21,
   "id": "4972f660",
   "metadata": {},
   "outputs": [
    {
     "name": "stdout",
     "output_type": "stream",
     "text": [
      "MSE:\n",
      " SVM: 0.006871741564670042, GBR: 7.467059132782527e-07\n",
      "R2:\n",
      " SVM: 0.651145091518247, GBR: 0.9999620922846723\n"
     ]
    }
   ],
   "source": [
    "from sklearn.metrics import mean_squared_error, max_error, r2_score\n",
    "\n",
    "X_train, X_test, y_train, y_test = train_test_split(df, df['Chance of Admit'], test_size=0.3)\n",
    "\n",
    "SVM_test = SVMRegr.predict(X_test)\n",
    "SVM_MSE = mean_squared_error(y_pred=SVM_test, y_true=y_test)\n",
    "\n",
    "SVM_test = SVMRegr.predict(X_test)\n",
    "SVM_r2 = r2_score(y_pred=SVM_test, y_true=y_test)\n",
    "\n",
    "GBR_test = GBR_reg.predict(X_test)\n",
    "GBR_MSE = mean_squared_error(y_pred=GBR_test, y_true=y_test)\n",
    "\n",
    "GBR_test = GBR_reg.predict(X_test)\n",
    "GBR_r2 = r2_score(y_pred=GBR_test, y_true=y_test)\n",
    "\n",
    "print(f\"MSE:\\n SVM: {SVM_MSE}, GBR: {GBR_MSE}\")\n",
    "print(f\"R2:\\n SVM: {SVM_r2}, GBR: {GBR_r2}\")"
   ]
  },
  {
   "cell_type": "markdown",
   "id": "9f7f3ff4",
   "metadata": {},
   "source": [
    "Я использую две метрики - среднеквадратичную ошибку (MSE) и коэффициент детерминации (R-squared).\n",
    "\n",
    "MSE измеряет среднеквадратичную разницу между фактическими и предсказанными значениями. Она предоставляет информацию о точности модели, где меньшее значение MSE указывает на лучшую модель. MSE полезна, когда мы хотим получить численную оценку ошибки модели.\n",
    "\n",
    "R-squared измеряет долю объясненной дисперсии в данных. Он предоставляет информацию о том, насколько хорошо модель объясняет вариацию целевой переменной. Значение находится в диапазоне от 0 до 1, чем ближе к 1, тем лучше модель.\n",
    "\n",
    "Вывод:\n",
    "\n",
    "Модель градиентного бустинга очевидно лучше, так как MSE у нее намного меньше, а R2 практически равна 1."
   ]
  },
  {
   "cell_type": "code",
   "execution_count": null,
   "id": "484aa8a9",
   "metadata": {},
   "outputs": [],
   "source": []
  }
 ],
 "metadata": {
  "kernelspec": {
   "display_name": "Python 3 (ipykernel)",
   "language": "python",
   "name": "python3"
  },
  "language_info": {
   "codemirror_mode": {
    "name": "ipython",
    "version": 3
   },
   "file_extension": ".py",
   "mimetype": "text/x-python",
   "name": "python",
   "nbconvert_exporter": "python",
   "pygments_lexer": "ipython3",
   "version": "3.9.13"
  }
 },
 "nbformat": 4,
 "nbformat_minor": 5
}
